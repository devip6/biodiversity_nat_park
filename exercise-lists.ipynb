{
 "cells": [
  {
   "cell_type": "markdown",
   "id": "a096fc15",
   "metadata": {
    "papermill": {
     "duration": 0.006898,
     "end_time": "2024-07-16T04:44:17.617318",
     "exception": false,
     "start_time": "2024-07-16T04:44:17.610420",
     "status": "completed"
    },
    "tags": []
   },
   "source": [
    "**This notebook is an exercise in the [Python](https://www.kaggle.com/learn/python) course.  You can reference the tutorial at [this link](https://www.kaggle.com/colinmorris/lists).**\n",
    "\n",
    "---\n"
   ]
  },
  {
   "cell_type": "markdown",
   "id": "866a4a46",
   "metadata": {
    "papermill": {
     "duration": 0.006104,
     "end_time": "2024-07-16T04:44:17.630136",
     "exception": false,
     "start_time": "2024-07-16T04:44:17.624032",
     "status": "completed"
    },
    "tags": []
   },
   "source": [
    "Things get more interesting with lists. You'll apply your new knowledge to solve the questions below. Remember to run the following cell first."
   ]
  },
  {
   "cell_type": "code",
   "execution_count": 1,
   "id": "0daf4575",
   "metadata": {
    "execution": {
     "iopub.execute_input": "2024-07-16T04:44:17.645585Z",
     "iopub.status.busy": "2024-07-16T04:44:17.645165Z",
     "iopub.status.idle": "2024-07-16T04:44:18.668040Z",
     "shell.execute_reply": "2024-07-16T04:44:18.666889Z"
    },
    "papermill": {
     "duration": 1.033422,
     "end_time": "2024-07-16T04:44:18.670607",
     "exception": false,
     "start_time": "2024-07-16T04:44:17.637185",
     "status": "completed"
    },
    "tags": []
   },
   "outputs": [
    {
     "name": "stdout",
     "output_type": "stream",
     "text": [
      "Setup complete.\n"
     ]
    }
   ],
   "source": [
    "from learntools.core import binder; binder.bind(globals())\n",
    "from learntools.python.ex4 import *\n",
    "print('Setup complete.')"
   ]
  },
  {
   "cell_type": "markdown",
   "id": "dac6305a",
   "metadata": {
    "papermill": {
     "duration": 0.006155,
     "end_time": "2024-07-16T04:44:18.683374",
     "exception": false,
     "start_time": "2024-07-16T04:44:18.677219",
     "status": "completed"
    },
    "tags": []
   },
   "source": [
    "# 1.\n",
    "\n",
    "Complete the function below according to its docstring."
   ]
  },
  {
   "cell_type": "code",
   "execution_count": 2,
   "id": "c6b79f51",
   "metadata": {
    "execution": {
     "iopub.execute_input": "2024-07-16T04:44:18.698274Z",
     "iopub.status.busy": "2024-07-16T04:44:18.697750Z",
     "iopub.status.idle": "2024-07-16T04:44:18.709458Z",
     "shell.execute_reply": "2024-07-16T04:44:18.708330Z"
    },
    "papermill": {
     "duration": 0.022184,
     "end_time": "2024-07-16T04:44:18.712012",
     "exception": false,
     "start_time": "2024-07-16T04:44:18.689828",
     "status": "completed"
    },
    "tags": []
   },
   "outputs": [
    {
     "data": {
      "application/javascript": [
       "parent.postMessage({\"jupyterEvent\": \"custom.exercise_interaction\", \"data\": {\"outcomeType\": 1, \"valueTowardsCompletion\": 0.2, \"interactionType\": 1, \"questionType\": 2, \"questionId\": \"1_SelectSecondItem\", \"learnToolsVersion\": \"0.3.4\", \"failureMessage\": \"\", \"exceptionClass\": \"\", \"trace\": \"\"}}, \"*\")"
      ],
      "text/plain": [
       "<IPython.core.display.Javascript object>"
      ]
     },
     "metadata": {},
     "output_type": "display_data"
    },
    {
     "data": {
      "text/markdown": [
       "<span style=\"color:#33cc33\">Correct</span>"
      ],
      "text/plain": [
       "Correct"
      ]
     },
     "metadata": {},
     "output_type": "display_data"
    }
   ],
   "source": [
    "def select_second(L):\n",
    "    \"\"\"Return the second element of the given list. If the list has no second\n",
    "    element, return None.\n",
    "    \"\"\"\n",
    "    return L[1] if len(L) > 2 else None\n",
    "\n",
    "# Check your answer\n",
    "q1.check()"
   ]
  },
  {
   "cell_type": "code",
   "execution_count": 3,
   "id": "df1bae31",
   "metadata": {
    "collapsed": true,
    "execution": {
     "iopub.execute_input": "2024-07-16T04:44:18.727507Z",
     "iopub.status.busy": "2024-07-16T04:44:18.727129Z",
     "iopub.status.idle": "2024-07-16T04:44:18.731721Z",
     "shell.execute_reply": "2024-07-16T04:44:18.730699Z"
    },
    "jupyter": {
     "outputs_hidden": true
    },
    "papermill": {
     "duration": 0.015224,
     "end_time": "2024-07-16T04:44:18.734090",
     "exception": false,
     "start_time": "2024-07-16T04:44:18.718866",
     "status": "completed"
    },
    "tags": []
   },
   "outputs": [],
   "source": [
    "#q1.hint()\n",
    "#q1.solution()"
   ]
  },
  {
   "cell_type": "markdown",
   "id": "b2d1a31c",
   "metadata": {
    "papermill": {
     "duration": 0.006625,
     "end_time": "2024-07-16T04:44:18.747853",
     "exception": false,
     "start_time": "2024-07-16T04:44:18.741228",
     "status": "completed"
    },
    "tags": []
   },
   "source": [
    "# 2.\n",
    "\n",
    "You are analyzing sports teams.  Members of each team are stored in a list. The Coach is the first name in the list, the captain is the second name in the list, and other players are listed after that. \n",
    "These lists are stored in another list, which starts with the best team and proceeds through the list to the worst team last.  Complete the function below to select the **captain** of the worst team."
   ]
  },
  {
   "cell_type": "code",
   "execution_count": 4,
   "id": "1f80bf38",
   "metadata": {
    "execution": {
     "iopub.execute_input": "2024-07-16T04:44:18.763722Z",
     "iopub.status.busy": "2024-07-16T04:44:18.762993Z",
     "iopub.status.idle": "2024-07-16T04:44:18.773012Z",
     "shell.execute_reply": "2024-07-16T04:44:18.772011Z"
    },
    "papermill": {
     "duration": 0.020676,
     "end_time": "2024-07-16T04:44:18.775411",
     "exception": false,
     "start_time": "2024-07-16T04:44:18.754735",
     "status": "completed"
    },
    "tags": []
   },
   "outputs": [
    {
     "data": {
      "application/javascript": [
       "parent.postMessage({\"jupyterEvent\": \"custom.exercise_interaction\", \"data\": {\"outcomeType\": 1, \"valueTowardsCompletion\": 0.2, \"interactionType\": 1, \"questionType\": 2, \"questionId\": \"2_LosingTeamCaptain\", \"learnToolsVersion\": \"0.3.4\", \"failureMessage\": \"\", \"exceptionClass\": \"\", \"trace\": \"\"}}, \"*\")"
      ],
      "text/plain": [
       "<IPython.core.display.Javascript object>"
      ]
     },
     "metadata": {},
     "output_type": "display_data"
    },
    {
     "data": {
      "text/markdown": [
       "<span style=\"color:#33cc33\">Correct</span>"
      ],
      "text/plain": [
       "Correct"
      ]
     },
     "metadata": {},
     "output_type": "display_data"
    }
   ],
   "source": [
    "def losing_team_captain(teams):\n",
    "    \"\"\"Given a list of teams, where each team is a list of names, return the 2nd player (captain)\n",
    "    from the last listed team\n",
    "    \"\"\"\n",
    "    return teams[-1][1]\n",
    "\n",
    "# Check your answer\n",
    "q2.check()"
   ]
  },
  {
   "cell_type": "code",
   "execution_count": 5,
   "id": "e9967009",
   "metadata": {
    "collapsed": true,
    "execution": {
     "iopub.execute_input": "2024-07-16T04:44:18.791795Z",
     "iopub.status.busy": "2024-07-16T04:44:18.791417Z",
     "iopub.status.idle": "2024-07-16T04:44:18.796040Z",
     "shell.execute_reply": "2024-07-16T04:44:18.794943Z"
    },
    "jupyter": {
     "outputs_hidden": true
    },
    "papermill": {
     "duration": 0.015614,
     "end_time": "2024-07-16T04:44:18.798464",
     "exception": false,
     "start_time": "2024-07-16T04:44:18.782850",
     "status": "completed"
    },
    "tags": []
   },
   "outputs": [],
   "source": [
    "#q2.hint()\n",
    "#q2.solution()"
   ]
  },
  {
   "cell_type": "markdown",
   "id": "a08892b6",
   "metadata": {
    "papermill": {
     "duration": 0.007098,
     "end_time": "2024-07-16T04:44:18.812974",
     "exception": false,
     "start_time": "2024-07-16T04:44:18.805876",
     "status": "completed"
    },
    "tags": []
   },
   "source": [
    "# 3.\n",
    "\n",
    "The next iteration of Mario Kart will feature an extra-infuriating new item, the *Purple Shell*. When used, it warps the last place racer into first place and the first place racer into last place. Complete the function below to implement the Purple Shell's effect."
   ]
  },
  {
   "cell_type": "code",
   "execution_count": 6,
   "id": "83f63b75",
   "metadata": {
    "execution": {
     "iopub.execute_input": "2024-07-16T04:44:18.829540Z",
     "iopub.status.busy": "2024-07-16T04:44:18.828820Z",
     "iopub.status.idle": "2024-07-16T04:44:18.838925Z",
     "shell.execute_reply": "2024-07-16T04:44:18.837823Z"
    },
    "papermill": {
     "duration": 0.021283,
     "end_time": "2024-07-16T04:44:18.841530",
     "exception": false,
     "start_time": "2024-07-16T04:44:18.820247",
     "status": "completed"
    },
    "tags": []
   },
   "outputs": [
    {
     "data": {
      "application/javascript": [
       "parent.postMessage({\"jupyterEvent\": \"custom.exercise_interaction\", \"data\": {\"outcomeType\": 1, \"valueTowardsCompletion\": 0.2, \"interactionType\": 1, \"questionType\": 2, \"questionId\": \"3_PurpleShell\", \"learnToolsVersion\": \"0.3.4\", \"failureMessage\": \"\", \"exceptionClass\": \"\", \"trace\": \"\"}}, \"*\")"
      ],
      "text/plain": [
       "<IPython.core.display.Javascript object>"
      ]
     },
     "metadata": {},
     "output_type": "display_data"
    },
    {
     "data": {
      "text/markdown": [
       "<span style=\"color:#33cc33\">Correct</span>"
      ],
      "text/plain": [
       "Correct"
      ]
     },
     "metadata": {},
     "output_type": "display_data"
    }
   ],
   "source": [
    "def purple_shell(racers):\n",
    "    \"\"\"Given a list of racers, set the first place racer (at the front of the list) to last\n",
    "    place and vice versa.\n",
    "    \n",
    "    >>> r = [\"Mario\", \"Bowser\", \"Luigi\"]\n",
    "    >>> purple_shell(r)\n",
    "    >>> r\n",
    "    [\"Luigi\", \"Bowser\", \"Mario\"]\n",
    "    \"\"\"\n",
    "    racers[0], racers[-1] = racers[-1], racers[0]\n",
    "\n",
    "# Check your answer\n",
    "q3.check()"
   ]
  },
  {
   "cell_type": "code",
   "execution_count": 7,
   "id": "e83a1667",
   "metadata": {
    "collapsed": true,
    "execution": {
     "iopub.execute_input": "2024-07-16T04:44:18.859449Z",
     "iopub.status.busy": "2024-07-16T04:44:18.858573Z",
     "iopub.status.idle": "2024-07-16T04:44:18.863234Z",
     "shell.execute_reply": "2024-07-16T04:44:18.862128Z"
    },
    "jupyter": {
     "outputs_hidden": true
    },
    "papermill": {
     "duration": 0.016072,
     "end_time": "2024-07-16T04:44:18.865495",
     "exception": false,
     "start_time": "2024-07-16T04:44:18.849423",
     "status": "completed"
    },
    "tags": []
   },
   "outputs": [],
   "source": [
    "#q3.hint()\n",
    "#q3.solution()"
   ]
  },
  {
   "cell_type": "markdown",
   "id": "35fc4d6b",
   "metadata": {
    "papermill": {
     "duration": 0.007319,
     "end_time": "2024-07-16T04:44:18.880597",
     "exception": false,
     "start_time": "2024-07-16T04:44:18.873278",
     "status": "completed"
    },
    "tags": []
   },
   "source": [
    "# 4.\n",
    "\n",
    "What are the lengths of the following lists? Fill in the variable `lengths` with your predictions. (Try to make a prediction for each list *without* just calling `len()` on it.)"
   ]
  },
  {
   "cell_type": "code",
   "execution_count": 8,
   "id": "8499d74e",
   "metadata": {
    "execution": {
     "iopub.execute_input": "2024-07-16T04:44:18.898059Z",
     "iopub.status.busy": "2024-07-16T04:44:18.897258Z",
     "iopub.status.idle": "2024-07-16T04:44:18.908171Z",
     "shell.execute_reply": "2024-07-16T04:44:18.906737Z"
    },
    "papermill": {
     "duration": 0.022581,
     "end_time": "2024-07-16T04:44:18.910848",
     "exception": false,
     "start_time": "2024-07-16T04:44:18.888267",
     "status": "completed"
    },
    "tags": []
   },
   "outputs": [
    {
     "data": {
      "application/javascript": [
       "parent.postMessage({\"jupyterEvent\": \"custom.exercise_interaction\", \"data\": {\"outcomeType\": 1, \"valueTowardsCompletion\": 0.2, \"interactionType\": 1, \"questionType\": 1, \"questionId\": \"4_UnderstandLen\", \"learnToolsVersion\": \"0.3.4\", \"failureMessage\": \"\", \"exceptionClass\": \"\", \"trace\": \"\"}}, \"*\")"
      ],
      "text/plain": [
       "<IPython.core.display.Javascript object>"
      ]
     },
     "metadata": {},
     "output_type": "display_data"
    },
    {
     "data": {
      "text/markdown": [
       "<span style=\"color:#33cc33\">Correct:</span> \n",
       "\n",
       "\n",
       "- a: There are three items in this list. Nothing tricky yet.\n",
       "- b: The list `[2, 3]` counts as a single item. It has one item before it. So we have 2 items in the list\n",
       "- c: The empty list has 0 items\n",
       "- d: The expression is the same as the list `[2, 3]`, which has length 2."
      ],
      "text/plain": [
       "Correct: \n",
       "\n",
       "\n",
       "- a: There are three items in this list. Nothing tricky yet.\n",
       "- b: The list `[2, 3]` counts as a single item. It has one item before it. So we have 2 items in the list\n",
       "- c: The empty list has 0 items\n",
       "- d: The expression is the same as the list `[2, 3]`, which has length 2."
      ]
     },
     "metadata": {},
     "output_type": "display_data"
    }
   ],
   "source": [
    "a = [1, 2, 3]\n",
    "b = [1, [2, 3]]\n",
    "c = []\n",
    "d = [1, 2, 3][1:]\n",
    "\n",
    "# Put your predictions in the list below. Lengths should contain 4 numbers, the\n",
    "# first being the length of a, the second being the length of b and so on.\n",
    "lengths = [3, 2, 0, 2]\n",
    "\n",
    "# Check your answer\n",
    "q4.check()"
   ]
  },
  {
   "cell_type": "code",
   "execution_count": 9,
   "id": "b0556089",
   "metadata": {
    "collapsed": true,
    "execution": {
     "iopub.execute_input": "2024-07-16T04:44:18.929561Z",
     "iopub.status.busy": "2024-07-16T04:44:18.929150Z",
     "iopub.status.idle": "2024-07-16T04:44:18.934298Z",
     "shell.execute_reply": "2024-07-16T04:44:18.933187Z"
    },
    "jupyter": {
     "outputs_hidden": true
    },
    "papermill": {
     "duration": 0.017653,
     "end_time": "2024-07-16T04:44:18.936691",
     "exception": false,
     "start_time": "2024-07-16T04:44:18.919038",
     "status": "completed"
    },
    "tags": []
   },
   "outputs": [],
   "source": [
    "# line below provides some explanation\n",
    "#q4.solution()"
   ]
  },
  {
   "cell_type": "markdown",
   "id": "7879f374",
   "metadata": {
    "papermill": {
     "duration": 0.007843,
     "end_time": "2024-07-16T04:44:18.952777",
     "exception": false,
     "start_time": "2024-07-16T04:44:18.944934",
     "status": "completed"
    },
    "tags": []
   },
   "source": [
    "# 5. <span title=\"A bit spicy\" style=\"color: darkgreen \">🌶️</span>\n",
    "\n",
    "We're using lists to record people who attended our party and what order they arrived in. For example, the following list represents a party with 7 guests, in which Adela showed up first and Ford was the last to arrive:\n",
    "\n",
    "    party_attendees = ['Adela', 'Fleda', 'Owen', 'May', 'Mona', 'Gilbert', 'Ford']\n",
    "\n",
    "A guest is considered 'fashionably late' if they arrived after at least half of the party's guests. However, they must not be the very last guest (that's taking it too far). In the above example, Mona and Gilbert are the only guests who were fashionably late.\n",
    "\n",
    "Complete the function below which takes a list of party attendees as well as a person, and tells us whether that person is fashionably late."
   ]
  },
  {
   "cell_type": "code",
   "execution_count": 10,
   "id": "d9087362",
   "metadata": {
    "execution": {
     "iopub.execute_input": "2024-07-16T04:44:18.971573Z",
     "iopub.status.busy": "2024-07-16T04:44:18.971174Z",
     "iopub.status.idle": "2024-07-16T04:44:18.982180Z",
     "shell.execute_reply": "2024-07-16T04:44:18.981035Z"
    },
    "papermill": {
     "duration": 0.023141,
     "end_time": "2024-07-16T04:44:18.984819",
     "exception": false,
     "start_time": "2024-07-16T04:44:18.961678",
     "status": "completed"
    },
    "tags": []
   },
   "outputs": [
    {
     "data": {
      "application/javascript": [
       "parent.postMessage({\"jupyterEvent\": \"custom.exercise_interaction\", \"data\": {\"outcomeType\": 1, \"valueTowardsCompletion\": 0.2, \"interactionType\": 1, \"questionType\": 2, \"questionId\": \"5_FashionablyLate\", \"learnToolsVersion\": \"0.3.4\", \"failureMessage\": \"\", \"exceptionClass\": \"\", \"trace\": \"\"}}, \"*\")"
      ],
      "text/plain": [
       "<IPython.core.display.Javascript object>"
      ]
     },
     "metadata": {},
     "output_type": "display_data"
    },
    {
     "data": {
      "text/markdown": [
       "<span style=\"color:#33cc33\">Correct</span>"
      ],
      "text/plain": [
       "Correct"
      ]
     },
     "metadata": {},
     "output_type": "display_data"
    }
   ],
   "source": [
    "def fashionably_late(arrivals, name):\n",
    "    \"\"\"Given an ordered list of arrivals to the party and a name, return whether the guest with that\n",
    "    name was fashionably late.\n",
    "    \"\"\"\n",
    "    mean = (len(arrivals) / 2)\n",
    "    if arrivals.index(name) >= mean and arrivals.index(name) != (len(arrivals) - 1):\n",
    "        return True\n",
    "    return False\n",
    "        \n",
    "\n",
    "# Check your answer\n",
    "q5.check()"
   ]
  },
  {
   "cell_type": "code",
   "execution_count": 11,
   "id": "babb17cc",
   "metadata": {
    "collapsed": true,
    "execution": {
     "iopub.execute_input": "2024-07-16T04:44:19.003988Z",
     "iopub.status.busy": "2024-07-16T04:44:19.003549Z",
     "iopub.status.idle": "2024-07-16T04:44:19.008105Z",
     "shell.execute_reply": "2024-07-16T04:44:19.007017Z"
    },
    "jupyter": {
     "outputs_hidden": true
    },
    "papermill": {
     "duration": 0.01728,
     "end_time": "2024-07-16T04:44:19.010783",
     "exception": false,
     "start_time": "2024-07-16T04:44:18.993503",
     "status": "completed"
    },
    "tags": []
   },
   "outputs": [],
   "source": [
    "#q5.hint()\n",
    "#q5.solution()"
   ]
  },
  {
   "cell_type": "markdown",
   "id": "ef5a92cd",
   "metadata": {
    "papermill": {
     "duration": 0.008661,
     "end_time": "2024-07-16T04:44:19.028426",
     "exception": false,
     "start_time": "2024-07-16T04:44:19.019765",
     "status": "completed"
    },
    "tags": []
   },
   "source": [
    "# Keep Going\n",
    "\n",
    "That's it for lists and tuples! Now you have the baseline knowledge to **[learn about loops](https://www.kaggle.com/colinmorris/loops-and-list-comprehensions)**, which is where lists and tuples get really interesting. "
   ]
  },
  {
   "cell_type": "markdown",
   "id": "62da9f40",
   "metadata": {
    "papermill": {
     "duration": 0.008509,
     "end_time": "2024-07-16T04:44:19.047106",
     "exception": false,
     "start_time": "2024-07-16T04:44:19.038597",
     "status": "completed"
    },
    "tags": []
   },
   "source": [
    "---\n",
    "\n",
    "\n",
    "\n",
    "\n",
    "*Have questions or comments? Visit the [course discussion forum](https://www.kaggle.com/learn/python/discussion) to chat with other learners.*"
   ]
  }
 ],
 "metadata": {
  "kaggle": {
   "accelerator": "none",
   "dataSources": [],
   "isGpuEnabled": false,
   "isInternetEnabled": false,
   "language": "python",
   "sourceType": "notebook"
  },
  "kernelspec": {
   "display_name": "Python 3",
   "language": "python",
   "name": "python3"
  },
  "language_info": {
   "codemirror_mode": {
    "name": "ipython",
    "version": 3
   },
   "file_extension": ".py",
   "mimetype": "text/x-python",
   "name": "python",
   "nbconvert_exporter": "python",
   "pygments_lexer": "ipython3",
   "version": "3.10.13"
  },
  "learntools_metadata": {
   "lesson_index": 3,
   "type": "exercise"
  },
  "papermill": {
   "default_parameters": {},
   "duration": 5.236323,
   "end_time": "2024-07-16T04:44:19.578375",
   "environment_variables": {},
   "exception": null,
   "input_path": "__notebook__.ipynb",
   "output_path": "__notebook__.ipynb",
   "parameters": {},
   "start_time": "2024-07-16T04:44:14.342052",
   "version": "2.5.0"
  }
 },
 "nbformat": 4,
 "nbformat_minor": 5
}
