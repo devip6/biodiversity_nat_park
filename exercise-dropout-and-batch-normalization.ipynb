{
 "cells": [
  {
   "cell_type": "markdown",
   "id": "5eb9f017",
   "metadata": {
    "papermill": {
     "duration": 0.007009,
     "end_time": "2024-07-25T06:45:56.067611",
     "exception": false,
     "start_time": "2024-07-25T06:45:56.060602",
     "status": "completed"
    },
    "tags": []
   },
   "source": [
    "**This notebook is an exercise in the [Intro to Deep Learning](https://www.kaggle.com/learn/intro-to-deep-learning) course.  You can reference the tutorial at [this link](https://www.kaggle.com/ryanholbrook/dropout-and-batch-normalization).**\n",
    "\n",
    "---\n"
   ]
  },
  {
   "cell_type": "markdown",
   "id": "f0925453",
   "metadata": {
    "papermill": {
     "duration": 0.005713,
     "end_time": "2024-07-25T06:45:56.079092",
     "exception": false,
     "start_time": "2024-07-25T06:45:56.073379",
     "status": "completed"
    },
    "tags": []
   },
   "source": [
    "# Introduction #\n",
    "\n",
    "In this exercise, you'll add dropout to the *Spotify* model from Exercise 4 and see how batch normalization can let you successfully train models on difficult datasets.\n",
    "\n",
    "Run the next cell to get started!"
   ]
  },
  {
   "cell_type": "code",
   "execution_count": 1,
   "id": "a55836bb",
   "metadata": {
    "execution": {
     "iopub.execute_input": "2024-07-25T06:45:56.093700Z",
     "iopub.status.busy": "2024-07-25T06:45:56.093100Z",
     "iopub.status.idle": "2024-07-25T06:45:57.205602Z",
     "shell.execute_reply": "2024-07-25T06:45:57.204406Z"
    },
    "papermill": {
     "duration": 1.123651,
     "end_time": "2024-07-25T06:45:57.208857",
     "exception": false,
     "start_time": "2024-07-25T06:45:56.085206",
     "status": "completed"
    },
    "tags": []
   },
   "outputs": [
    {
     "name": "stderr",
     "output_type": "stream",
     "text": [
      "/tmp/ipykernel_19/195640296.py:3: MatplotlibDeprecationWarning: The seaborn styles shipped by Matplotlib are deprecated since 3.6, as they no longer correspond to the styles shipped by seaborn. However, they will remain available as 'seaborn-v0_8-<style>'. Alternatively, directly use the seaborn API instead.\n",
      "  plt.style.use('seaborn-whitegrid')\n"
     ]
    }
   ],
   "source": [
    "# Setup plotting\n",
    "import matplotlib.pyplot as plt\n",
    "plt.style.use('seaborn-whitegrid')\n",
    "# Set Matplotlib defaults\n",
    "plt.rc('figure', autolayout=True)\n",
    "plt.rc('axes', labelweight='bold', labelsize='large',\n",
    "       titleweight='bold', titlesize=18, titlepad=10)\n",
    "plt.rc('animation', html='html5')\n",
    "\n",
    "# Setup feedback system\n",
    "from learntools.core import binder\n",
    "binder.bind(globals())\n",
    "from learntools.deep_learning_intro.ex5 import *"
   ]
  },
  {
   "cell_type": "markdown",
   "id": "74c43969",
   "metadata": {
    "papermill": {
     "duration": 0.005423,
     "end_time": "2024-07-25T06:45:57.219994",
     "exception": false,
     "start_time": "2024-07-25T06:45:57.214571",
     "status": "completed"
    },
    "tags": []
   },
   "source": [
    "First load the *Spotify* dataset."
   ]
  },
  {
   "cell_type": "code",
   "execution_count": 2,
   "id": "0e7135ca",
   "metadata": {
    "execution": {
     "iopub.execute_input": "2024-07-25T06:45:57.233597Z",
     "iopub.status.busy": "2024-07-25T06:45:57.233064Z",
     "iopub.status.idle": "2024-07-25T06:46:15.166109Z",
     "shell.execute_reply": "2024-07-25T06:46:15.164725Z"
    },
    "papermill": {
     "duration": 17.943252,
     "end_time": "2024-07-25T06:46:15.168830",
     "exception": false,
     "start_time": "2024-07-25T06:45:57.225578",
     "status": "completed"
    },
    "tags": []
   },
   "outputs": [
    {
     "name": "stderr",
     "output_type": "stream",
     "text": [
      "2024-07-25 06:46:01.222336: E external/local_xla/xla/stream_executor/cuda/cuda_dnn.cc:9261] Unable to register cuDNN factory: Attempting to register factory for plugin cuDNN when one has already been registered\n",
      "2024-07-25 06:46:01.222475: E external/local_xla/xla/stream_executor/cuda/cuda_fft.cc:607] Unable to register cuFFT factory: Attempting to register factory for plugin cuFFT when one has already been registered\n",
      "2024-07-25 06:46:01.403091: E external/local_xla/xla/stream_executor/cuda/cuda_blas.cc:1515] Unable to register cuBLAS factory: Attempting to register factory for plugin cuBLAS when one has already been registered\n"
     ]
    },
    {
     "name": "stdout",
     "output_type": "stream",
     "text": [
      "Input shape: [18]\n"
     ]
    }
   ],
   "source": [
    "import pandas as pd\n",
    "from sklearn.preprocessing import StandardScaler, OneHotEncoder\n",
    "from sklearn.compose import make_column_transformer\n",
    "from sklearn.model_selection import GroupShuffleSplit\n",
    "\n",
    "from tensorflow import keras\n",
    "from tensorflow.keras import layers\n",
    "from tensorflow.keras import callbacks\n",
    "\n",
    "spotify = pd.read_csv('../input/dl-course-data/spotify.csv')\n",
    "\n",
    "X = spotify.copy().dropna()\n",
    "y = X.pop('track_popularity')\n",
    "artists = X['track_artist']\n",
    "\n",
    "features_num = ['danceability', 'energy', 'key', 'loudness', 'mode',\n",
    "                'speechiness', 'acousticness', 'instrumentalness',\n",
    "                'liveness', 'valence', 'tempo', 'duration_ms']\n",
    "features_cat = ['playlist_genre']\n",
    "\n",
    "preprocessor = make_column_transformer(\n",
    "    (StandardScaler(), features_num),\n",
    "    (OneHotEncoder(), features_cat),\n",
    ")\n",
    "\n",
    "def group_split(X, y, group, train_size=0.75):\n",
    "    splitter = GroupShuffleSplit(train_size=train_size)\n",
    "    train, test = next(splitter.split(X, y, groups=group))\n",
    "    return (X.iloc[train], X.iloc[test], y.iloc[train], y.iloc[test])\n",
    "\n",
    "X_train, X_valid, y_train, y_valid = group_split(X, y, artists)\n",
    "\n",
    "X_train = preprocessor.fit_transform(X_train)\n",
    "X_valid = preprocessor.transform(X_valid)\n",
    "y_train = y_train / 100\n",
    "y_valid = y_valid / 100\n",
    "\n",
    "input_shape = [X_train.shape[1]]\n",
    "print(\"Input shape: {}\".format(input_shape))"
   ]
  },
  {
   "cell_type": "markdown",
   "id": "7ff22360",
   "metadata": {
    "papermill": {
     "duration": 0.005503,
     "end_time": "2024-07-25T06:46:15.180354",
     "exception": false,
     "start_time": "2024-07-25T06:46:15.174851",
     "status": "completed"
    },
    "tags": []
   },
   "source": [
    "# 1) Add Dropout to Spotify Model\n",
    "\n",
    "Here is the last model from Exercise 4. Add two dropout layers, one after the `Dense` layer with 128 units, and one after the `Dense` layer with 64 units. Set the dropout rate on both to `0.3`."
   ]
  },
  {
   "cell_type": "code",
   "execution_count": 3,
   "id": "d8848d67",
   "metadata": {
    "execution": {
     "iopub.execute_input": "2024-07-25T06:46:15.194088Z",
     "iopub.status.busy": "2024-07-25T06:46:15.193648Z",
     "iopub.status.idle": "2024-07-25T06:46:15.346976Z",
     "shell.execute_reply": "2024-07-25T06:46:15.345832Z"
    },
    "lines_to_next_cell": 2,
    "papermill": {
     "duration": 0.16348,
     "end_time": "2024-07-25T06:46:15.349750",
     "exception": false,
     "start_time": "2024-07-25T06:46:15.186270",
     "status": "completed"
    },
    "tags": []
   },
   "outputs": [
    {
     "data": {
      "application/javascript": [
       "parent.postMessage({\"jupyterEvent\": \"custom.exercise_interaction\", \"data\": {\"outcomeType\": 2, \"failureMessage\": \"Your model doesn't have the correct kinds of layers. You should have five layers with classes: ['Dense', 'Dropout', 'Dense', 'Dropout', 'Dense'].\", \"interactionType\": 1, \"questionType\": 2, \"questionId\": \"1_Q1\", \"learnToolsVersion\": \"0.3.4\", \"valueTowardsCompletion\": 0.0, \"exceptionClass\": \"\", \"trace\": \"\"}}, \"*\")"
      ],
      "text/plain": [
       "<IPython.core.display.Javascript object>"
      ]
     },
     "metadata": {},
     "output_type": "display_data"
    },
    {
     "data": {
      "text/markdown": [
       "<span style=\"color:#cc3333\">Incorrect:</span> Your model doesn't have the correct kinds of layers. You should have five layers with classes: ['Dense', 'Dropout', 'Dense', 'Dropout', 'Dense']."
      ],
      "text/plain": [
       "Incorrect: Your model doesn't have the correct kinds of layers. You should have five layers with classes: ['Dense', 'Dropout', 'Dense', 'Dropout', 'Dense']."
      ]
     },
     "metadata": {},
     "output_type": "display_data"
    }
   ],
   "source": [
    "# YOUR CODE HERE: Add two 30% dropout layers, one after 128 and one after 64\n",
    "model = keras.Sequential([\n",
    "    layers.Dense(128, activation='relu', input_shape=input_shape),\n",
    "    layers.Dense(64, activation='relu'),\n",
    "    layers.Dense(1)\n",
    "])\n",
    "\n",
    "# Check your answer\n",
    "q_1.check()"
   ]
  },
  {
   "cell_type": "code",
   "execution_count": 4,
   "id": "d621bc13",
   "metadata": {
    "execution": {
     "iopub.execute_input": "2024-07-25T06:46:15.363631Z",
     "iopub.status.busy": "2024-07-25T06:46:15.363235Z",
     "iopub.status.idle": "2024-07-25T06:46:15.368723Z",
     "shell.execute_reply": "2024-07-25T06:46:15.367365Z"
    },
    "papermill": {
     "duration": 0.01547,
     "end_time": "2024-07-25T06:46:15.371315",
     "exception": false,
     "start_time": "2024-07-25T06:46:15.355845",
     "status": "completed"
    },
    "tags": []
   },
   "outputs": [],
   "source": [
    "# Lines below will give you a hint or solution code\n",
    "#q_1.hint()\n",
    "#q_1.solution()"
   ]
  },
  {
   "cell_type": "markdown",
   "id": "cf49cbd3",
   "metadata": {
    "papermill": {
     "duration": 0.006584,
     "end_time": "2024-07-25T06:46:15.384279",
     "exception": false,
     "start_time": "2024-07-25T06:46:15.377695",
     "status": "completed"
    },
    "tags": []
   },
   "source": [
    "Now run this next cell to train the model see the effect of adding dropout."
   ]
  },
  {
   "cell_type": "code",
   "execution_count": 5,
   "id": "637afc11",
   "metadata": {
    "execution": {
     "iopub.execute_input": "2024-07-25T06:46:15.399155Z",
     "iopub.status.busy": "2024-07-25T06:46:15.398632Z",
     "iopub.status.idle": "2024-07-25T06:46:26.795524Z",
     "shell.execute_reply": "2024-07-25T06:46:26.794242Z"
    },
    "papermill": {
     "duration": 11.407035,
     "end_time": "2024-07-25T06:46:26.798092",
     "exception": false,
     "start_time": "2024-07-25T06:46:15.391057",
     "status": "completed"
    },
    "tags": []
   },
   "outputs": [
    {
     "name": "stdout",
     "output_type": "stream",
     "text": [
      "Minimum Validation Loss: 0.1965\n"
     ]
    },
    {
     "data": {
      "image/png": "[encoded data removed]",
      "text/plain": [
       "<Figure size 640x480 with 1 Axes>"
      ]
     },
     "metadata": {},
     "output_type": "display_data"
    }
   ],
   "source": [
    "model.compile(\n",
    "    optimizer='adam',\n",
    "    loss='mae',\n",
    ")\n",
    "history = model.fit(\n",
    "    X_train, y_train,\n",
    "    validation_data=(X_valid, y_valid),\n",
    "    batch_size=512,\n",
    "    epochs=50,\n",
    "    verbose=0,\n",
    ")\n",
    "history_df = pd.DataFrame(history.history)\n",
    "history_df.loc[:, ['loss', 'val_loss']].plot()\n",
    "print(\"Minimum Validation Loss: {:0.4f}\".format(history_df['val_loss'].min()))"
   ]
  },
  {
   "cell_type": "markdown",
   "id": "3eb240b8",
   "metadata": {
    "papermill": {
     "duration": 0.00673,
     "end_time": "2024-07-25T06:46:26.811818",
     "exception": false,
     "start_time": "2024-07-25T06:46:26.805088",
     "status": "completed"
    },
    "tags": []
   },
   "source": [
    "# 2) Evaluate Dropout\n",
    "\n",
    "Recall from Exercise 4 that this model tended to overfit the data around epoch 5. Did adding dropout seem to help prevent overfitting this time?"
   ]
  },
  {
   "cell_type": "code",
   "execution_count": 6,
   "id": "99ac912e",
   "metadata": {
    "execution": {
     "iopub.execute_input": "2024-07-25T06:46:26.828601Z",
     "iopub.status.busy": "2024-07-25T06:46:26.828148Z",
     "iopub.status.idle": "2024-07-25T06:46:26.838907Z",
     "shell.execute_reply": "2024-07-25T06:46:26.837680Z"
    },
    "papermill": {
     "duration": 0.021879,
     "end_time": "2024-07-25T06:46:26.841342",
     "exception": false,
     "start_time": "2024-07-25T06:46:26.819463",
     "status": "completed"
    },
    "tags": []
   },
   "outputs": [
    {
     "data": {
      "application/javascript": [
       "parent.postMessage({\"jupyterEvent\": \"custom.exercise_interaction\", \"data\": {\"outcomeType\": 1, \"valueTowardsCompletion\": 0.25, \"interactionType\": 1, \"questionType\": 4, \"questionId\": \"2_Q2\", \"learnToolsVersion\": \"0.3.4\", \"failureMessage\": \"\", \"exceptionClass\": \"\", \"trace\": \"\"}}, \"*\")"
      ],
      "text/plain": [
       "<IPython.core.display.Javascript object>"
      ]
     },
     "metadata": {},
     "output_type": "display_data"
    },
    {
     "data": {
      "text/markdown": [
       "<span style=\"color:#33cc33\">Correct:</span> \n",
       "\n",
       "\n",
       "From the learning curves, you can see that the validation loss remains near a constant minimum even though the training loss continues to decrease. So we can see that adding dropout did prevent overfitting this time. Moreover, by making it harder for the network to fit spurious patterns, dropout may have encouraged the network to seek out more of the true patterns, possibly improving the validation loss some as well).\n"
      ],
      "text/plain": [
       "Correct: \n",
       "\n",
       "\n",
       "From the learning curves, you can see that the validation loss remains near a constant minimum even though the training loss continues to decrease. So we can see that adding dropout did prevent overfitting this time. Moreover, by making it harder for the network to fit spurious patterns, dropout may have encouraged the network to seek out more of the true patterns, possibly improving the validation loss some as well)."
      ]
     },
     "metadata": {},
     "output_type": "display_data"
    }
   ],
   "source": [
    "# View the solution (Run this cell to receive credit!)\n",
    "q_2.check()"
   ]
  },
  {
   "cell_type": "markdown",
   "id": "f92233fb",
   "metadata": {
    "papermill": {
     "duration": 0.007126,
     "end_time": "2024-07-25T06:46:26.855483",
     "exception": false,
     "start_time": "2024-07-25T06:46:26.848357",
     "status": "completed"
    },
    "tags": []
   },
   "source": [
    "Now, we'll switch topics to explore how batch normalization can fix problems in training.\n",
    "\n",
    "Load the *Concrete* dataset. We won't do any standardization this time. This will make the effect of batch normalization much more apparent."
   ]
  },
  {
   "cell_type": "code",
   "execution_count": 7,
   "id": "f1cb7bb5",
   "metadata": {
    "execution": {
     "iopub.execute_input": "2024-07-25T06:46:26.873693Z",
     "iopub.status.busy": "2024-07-25T06:46:26.873145Z",
     "iopub.status.idle": "2024-07-25T06:46:26.893619Z",
     "shell.execute_reply": "2024-07-25T06:46:26.892322Z"
    },
    "papermill": {
     "duration": 0.033208,
     "end_time": "2024-07-25T06:46:26.896253",
     "exception": false,
     "start_time": "2024-07-25T06:46:26.863045",
     "status": "completed"
    },
    "tags": []
   },
   "outputs": [],
   "source": [
    "import pandas as pd\n",
    "\n",
    "concrete = pd.read_csv('../input/dl-course-data/concrete.csv')\n",
    "df = concrete.copy()\n",
    "\n",
    "df_train = df.sample(frac=0.7, random_state=0)\n",
    "df_valid = df.drop(df_train.index)\n",
    "\n",
    "X_train = df_train.drop('CompressiveStrength', axis=1)\n",
    "X_valid = df_valid.drop('CompressiveStrength', axis=1)\n",
    "y_train = df_train['CompressiveStrength']\n",
    "y_valid = df_valid['CompressiveStrength']\n",
    "\n",
    "input_shape = [X_train.shape[1]]"
   ]
  },
  {
   "cell_type": "markdown",
   "id": "41e6ac7d",
   "metadata": {
    "papermill": {
     "duration": 0.006861,
     "end_time": "2024-07-25T06:46:26.911241",
     "exception": false,
     "start_time": "2024-07-25T06:46:26.904380",
     "status": "completed"
    },
    "tags": []
   },
   "source": [
    "Run the following cell to train the network on the unstandardized *Concrete* data."
   ]
  },
  {
   "cell_type": "code",
   "execution_count": 8,
   "id": "ef9715a1",
   "metadata": {
    "execution": {
     "iopub.execute_input": "2024-07-25T06:46:26.927239Z",
     "iopub.status.busy": "2024-07-25T06:46:26.926803Z",
     "iopub.status.idle": "2024-07-25T06:46:38.861359Z",
     "shell.execute_reply": "2024-07-25T06:46:38.860128Z"
    },
    "papermill": {
     "duration": 11.945454,
     "end_time": "2024-07-25T06:46:38.863885",
     "exception": false,
     "start_time": "2024-07-25T06:46:26.918431",
     "status": "completed"
    },
    "tags": []
   },
   "outputs": [
    {
     "name": "stdout",
     "output_type": "stream",
     "text": [
      "Minimum Validation Loss: nan\n"
     ]
    },
    {
     "data": {
      "image/png": "[encoded data removed]",
      "text/plain": [
       "<Figure size 640x480 with 1 Axes>"
      ]
     },
     "metadata": {},
     "output_type": "display_data"
    }
   ],
   "source": [
    "model = keras.Sequential([\n",
    "    layers.Dense(512, activation='relu', input_shape=input_shape),\n",
    "    layers.Dense(512, activation='relu'),    \n",
    "    layers.Dense(512, activation='relu'),\n",
    "    layers.Dense(1),\n",
    "])\n",
    "model.compile(\n",
    "    optimizer='sgd', # SGD is more sensitive to differences of scale\n",
    "    loss='mae',\n",
    "    metrics=['mae'],\n",
    ")\n",
    "history = model.fit(\n",
    "    X_train, y_train,\n",
    "    validation_data=(X_valid, y_valid),\n",
    "    batch_size=64,\n",
    "    epochs=100,\n",
    "    verbose=0,\n",
    ")\n",
    "\n",
    "history_df = pd.DataFrame(history.history)\n",
    "history_df.loc[0:, ['loss', 'val_loss']].plot()\n",
    "print((\"Minimum Validation Loss: {:0.4f}\").format(history_df['val_loss'].min()))"
   ]
  },
  {
   "cell_type": "markdown",
   "id": "c2e6b119",
   "metadata": {
    "papermill": {
     "duration": 0.007598,
     "end_time": "2024-07-25T06:46:38.879415",
     "exception": false,
     "start_time": "2024-07-25T06:46:38.871817",
     "status": "completed"
    },
    "tags": []
   },
   "source": [
    "Did you end up with a blank graph? Trying to train this network on this dataset will usually fail. Even when it does converge (due to a lucky weight initialization), it tends to converge to a very large number.\n",
    "\n",
    "# 3) Add Batch Normalization Layers\n",
    "\n",
    "Batch normalization can help correct problems like this.\n",
    "\n",
    "Add four `BatchNormalization` layers, one before each of the dense layers. (Remember to move the `input_shape` argument to the new first layer.)"
   ]
  },
  {
   "cell_type": "code",
   "execution_count": 9,
   "id": "0f9b6456",
   "metadata": {
    "execution": {
     "iopub.execute_input": "2024-07-25T06:46:38.896108Z",
     "iopub.status.busy": "2024-07-25T06:46:38.895576Z",
     "iopub.status.idle": "2024-07-25T06:46:38.925076Z",
     "shell.execute_reply": "2024-07-25T06:46:38.923679Z"
    },
    "lines_to_next_cell": 0,
    "papermill": {
     "duration": 0.040897,
     "end_time": "2024-07-25T06:46:38.927631",
     "exception": false,
     "start_time": "2024-07-25T06:46:38.886734",
     "status": "completed"
    },
    "tags": []
   },
   "outputs": [
    {
     "data": {
      "application/javascript": [
       "parent.postMessage({\"jupyterEvent\": \"custom.exercise_interaction\", \"data\": {\"outcomeType\": 1, \"valueTowardsCompletion\": 0.25, \"interactionType\": 1, \"questionType\": 2, \"questionId\": \"3_Q3\", \"learnToolsVersion\": \"0.3.4\", \"failureMessage\": \"\", \"exceptionClass\": \"\", \"trace\": \"\"}}, \"*\")"
      ],
      "text/plain": [
       "<IPython.core.display.Javascript object>"
      ]
     },
     "metadata": {},
     "output_type": "display_data"
    },
    {
     "data": {
      "text/markdown": [
       "<span style=\"color:#33cc33\">Correct</span>"
      ],
      "text/plain": [
       "Correct"
      ]
     },
     "metadata": {},
     "output_type": "display_data"
    }
   ],
   "source": [
    "# YOUR CODE HERE: Add a BatchNormalization layer before each Dense layer\n",
    "model = keras.Sequential([\n",
    "    layers.BatchNormalization(),\n",
    "    layers.Dense(512, activation='relu', input_shape=input_shape),\n",
    "    layers.BatchNormalization(),\n",
    "    layers.Dense(512, activation='relu'),\n",
    "    layers.BatchNormalization(),\n",
    "    layers.Dense(512, activation='relu'),\n",
    "    layers.BatchNormalization(),\n",
    "    layers.Dense(1),\n",
    "])\n",
    "\n",
    "# Check your answer\n",
    "q_3.check()"
   ]
  },
  {
   "cell_type": "code",
   "execution_count": 10,
   "id": "4e124492",
   "metadata": {
    "execution": {
     "iopub.execute_input": "2024-07-25T06:46:38.944636Z",
     "iopub.status.busy": "2024-07-25T06:46:38.944238Z",
     "iopub.status.idle": "2024-07-25T06:46:38.949309Z",
     "shell.execute_reply": "2024-07-25T06:46:38.948134Z"
    },
    "papermill": {
     "duration": 0.016417,
     "end_time": "2024-07-25T06:46:38.951668",
     "exception": false,
     "start_time": "2024-07-25T06:46:38.935251",
     "status": "completed"
    },
    "tags": []
   },
   "outputs": [],
   "source": [
    "# Lines below will give you a hint or solution code\n",
    "#q_3.hint()\n",
    "#q_3.solution()"
   ]
  },
  {
   "cell_type": "markdown",
   "id": "4e646af3",
   "metadata": {
    "papermill": {
     "duration": 0.007079,
     "end_time": "2024-07-25T06:46:38.966301",
     "exception": false,
     "start_time": "2024-07-25T06:46:38.959222",
     "status": "completed"
    },
    "tags": []
   },
   "source": [
    "Run the next cell to see if batch normalization will let us train the model."
   ]
  },
  {
   "cell_type": "code",
   "execution_count": 11,
   "id": "7db3fbdf",
   "metadata": {
    "execution": {
     "iopub.execute_input": "2024-07-25T06:46:38.983420Z",
     "iopub.status.busy": "2024-07-25T06:46:38.983024Z",
     "iopub.status.idle": "2024-07-25T06:46:55.349547Z",
     "shell.execute_reply": "2024-07-25T06:46:55.348291Z"
    },
    "papermill": {
     "duration": 16.378073,
     "end_time": "2024-07-25T06:46:55.351956",
     "exception": false,
     "start_time": "2024-07-25T06:46:38.973883",
     "status": "completed"
    },
    "tags": []
   },
   "outputs": [
    {
     "name": "stdout",
     "output_type": "stream",
     "text": [
      "Minimum Validation Loss: 4.0378\n"
     ]
    },
    {
     "data": {
      "image/png": "[encoded data removed]",
      "text/plain": [
       "<Figure size 640x480 with 1 Axes>"
      ]
     },
     "metadata": {},
     "output_type": "display_data"
    }
   ],
   "source": [
    "model.compile(\n",
    "    optimizer='sgd',\n",
    "    loss='mae',\n",
    "    metrics=['mae'],\n",
    ")\n",
    "EPOCHS = 100\n",
    "history = model.fit(\n",
    "    X_train, y_train,\n",
    "    validation_data=(X_valid, y_valid),\n",
    "    batch_size=64,\n",
    "    epochs=EPOCHS,\n",
    "    verbose=0,\n",
    ")\n",
    "\n",
    "history_df = pd.DataFrame(history.history)\n",
    "history_df.loc[0:, ['loss', 'val_loss']].plot()\n",
    "print((\"Minimum Validation Loss: {:0.4f}\").format(history_df['val_loss'].min()))"
   ]
  },
  {
   "cell_type": "markdown",
   "id": "757157a6",
   "metadata": {
    "papermill": {
     "duration": 0.008003,
     "end_time": "2024-07-25T06:46:55.368354",
     "exception": false,
     "start_time": "2024-07-25T06:46:55.360351",
     "status": "completed"
    },
    "tags": []
   },
   "source": [
    "# 4) Evaluate Batch Normalization\n",
    "\n",
    "Did adding batch normalization help?"
   ]
  },
  {
   "cell_type": "code",
   "execution_count": 12,
   "id": "184195bc",
   "metadata": {
    "execution": {
     "iopub.execute_input": "2024-07-25T06:46:55.387521Z",
     "iopub.status.busy": "2024-07-25T06:46:55.387106Z",
     "iopub.status.idle": "2024-07-25T06:46:55.397530Z",
     "shell.execute_reply": "2024-07-25T06:46:55.396347Z"
    },
    "lines_to_next_cell": 0,
    "papermill": {
     "duration": 0.023471,
     "end_time": "2024-07-25T06:46:55.400295",
     "exception": false,
     "start_time": "2024-07-25T06:46:55.376824",
     "status": "completed"
    },
    "tags": []
   },
   "outputs": [
    {
     "data": {
      "application/javascript": [
       "parent.postMessage({\"jupyterEvent\": \"custom.exercise_interaction\", \"data\": {\"outcomeType\": 1, \"valueTowardsCompletion\": 0.25, \"interactionType\": 1, \"questionType\": 4, \"questionId\": \"4_Q4\", \"learnToolsVersion\": \"0.3.4\", \"failureMessage\": \"\", \"exceptionClass\": \"\", \"trace\": \"\"}}, \"*\")"
      ],
      "text/plain": [
       "<IPython.core.display.Javascript object>"
      ]
     },
     "metadata": {},
     "output_type": "display_data"
    },
    {
     "data": {
      "text/markdown": [
       "<span style=\"color:#33cc33\">Correct:</span> \n",
       "\n",
       "\n",
       "You can see that adding batch normalization was a big improvement on the first attempt! By adaptively scaling the data as it passes through the network, batch normalization can let you train models on difficult datasets.\n"
      ],
      "text/plain": [
       "Correct: \n",
       "\n",
       "\n",
       "You can see that adding batch normalization was a big improvement on the first attempt! By adaptively scaling the data as it passes through the network, batch normalization can let you train models on difficult datasets."
      ]
     },
     "metadata": {},
     "output_type": "display_data"
    }
   ],
   "source": [
    "# View the solution (Run this cell to receive credit!)\n",
    "q_4.check()"
   ]
  },
  {
   "cell_type": "markdown",
   "id": "c417b0b8",
   "metadata": {
    "papermill": {
     "duration": 0.008343,
     "end_time": "2024-07-25T06:46:55.417194",
     "exception": false,
     "start_time": "2024-07-25T06:46:55.408851",
     "status": "completed"
    },
    "tags": []
   },
   "source": [
    "# Keep Going #\n",
    "\n",
    "[**Create neural networks**](https://www.kaggle.com/ryanholbrook/binary-classification) for binary classification."
   ]
  },
  {
   "cell_type": "markdown",
   "id": "a0e5d4e5",
   "metadata": {
    "papermill": {
     "duration": 0.009573,
     "end_time": "2024-07-25T06:46:55.435553",
     "exception": false,
     "start_time": "2024-07-25T06:46:55.425980",
     "status": "completed"
    },
    "tags": []
   },
   "source": [
    "---\n",
    "\n",
    "\n",
    "\n",
    "\n",
    "*Have questions or comments? Visit the [course discussion forum](https://www.kaggle.com/learn/intro-to-deep-learning/discussion) to chat with other learners.*"
   ]
  }
 ],
 "metadata": {
  "jupytext": {
   "cell_metadata_filter": "-all",
   "formats": "ipynb"
  },
  "kaggle": {
   "accelerator": "gpu",
   "dataSources": [
    {
     "datasetId": 829369,
     "sourceId": 1480608,
     "sourceType": "datasetVersion"
    }
   ],
   "dockerImageVersionId": 30648,
   "isGpuEnabled": true,
   "isInternetEnabled": false,
   "language": "python",
   "sourceType": "notebook"
  },
  "kernelspec": {
   "display_name": "Python 3",
   "language": "python",
   "name": "python3"
  },
  "language_info": {
   "codemirror_mode": {
    "name": "ipython",
    "version": 3
   },
   "file_extension": ".py",
   "mimetype": "text/x-python",
   "name": "python",
   "nbconvert_exporter": "python",
   "pygments_lexer": "ipython3",
   "version": "3.10.13"
  },
  "papermill": {
   "default_parameters": {},
   "duration": 65.256513,
   "end_time": "2024-07-25T06:46:58.240348",
   "environment_variables": {},
   "exception": null,
   "input_path": "__notebook__.ipynb",
   "output_path": "__notebook__.ipynb",
   "parameters": {},
   "start_time": "2024-07-25T06:45:52.983835",
   "version": "2.5.0"
  }
 },
 "nbformat": 4,
 "nbformat_minor": 5
}
