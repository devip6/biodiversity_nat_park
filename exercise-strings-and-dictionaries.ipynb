{
 "cells": [
  {
   "cell_type": "markdown",
   "id": "676b35ad",
   "metadata": {
    "papermill": {
     "duration": 0.007865,
     "end_time": "2024-07-16T05:38:02.618274",
     "exception": false,
     "start_time": "2024-07-16T05:38:02.610409",
     "status": "completed"
    },
    "tags": []
   },
   "source": [
    "**This notebook is an exercise in the [Python](https://www.kaggle.com/learn/python) course.  You can reference the tutorial at [this link](https://www.kaggle.com/colinmorris/strings-and-dictionaries).**\n",
    "\n",
    "---\n"
   ]
  },
  {
   "cell_type": "markdown",
   "id": "804b9873",
   "metadata": {
    "papermill": {
     "duration": 0.007172,
     "end_time": "2024-07-16T05:38:02.632984",
     "exception": false,
     "start_time": "2024-07-16T05:38:02.625812",
     "status": "completed"
    },
    "tags": []
   },
   "source": [
    "You are almost done with the course. Nice job!\n",
    "\n",
    "We have a couple more interesting problems for you before you go. \n",
    "\n",
    "As always, run the setup code below before working on the questions."
   ]
  },
  {
   "cell_type": "code",
   "execution_count": 1,
   "id": "d99bf68d",
   "metadata": {
    "execution": {
     "iopub.execute_input": "2024-07-16T05:38:02.649905Z",
     "iopub.status.busy": "2024-07-16T05:38:02.649506Z",
     "iopub.status.idle": "2024-07-16T05:38:03.676652Z",
     "shell.execute_reply": "2024-07-16T05:38:03.675277Z"
    },
    "papermill": {
     "duration": 1.038965,
     "end_time": "2024-07-16T05:38:03.679564",
     "exception": false,
     "start_time": "2024-07-16T05:38:02.640599",
     "status": "completed"
    },
    "tags": []
   },
   "outputs": [
    {
     "name": "stdout",
     "output_type": "stream",
     "text": [
      "Setup complete.\n"
     ]
    }
   ],
   "source": [
    "from learntools.core import binder; binder.bind(globals())\n",
    "from learntools.python.ex6 import *\n",
    "print('Setup complete.')"
   ]
  },
  {
   "cell_type": "markdown",
   "id": "34be2d71",
   "metadata": {
    "papermill": {
     "duration": 0.007235,
     "end_time": "2024-07-16T05:38:03.694369",
     "exception": false,
     "start_time": "2024-07-16T05:38:03.687134",
     "status": "completed"
    },
    "tags": []
   },
   "source": [
    "Let's start with a string lightning round to warm up. What are the lengths of the strings below?\n",
    "\n",
    "For each of the five strings below, predict what `len()` would return when passed that string. Use the variable `length` to record your answer, then run the cell to check whether you were right.  \n",
    "\n",
    "# 0a."
   ]
  },
  {
   "cell_type": "code",
   "execution_count": 2,
   "id": "4d59f627",
   "metadata": {
    "execution": {
     "iopub.execute_input": "2024-07-16T05:38:03.711075Z",
     "iopub.status.busy": "2024-07-16T05:38:03.710527Z",
     "iopub.status.idle": "2024-07-16T05:38:03.721901Z",
     "shell.execute_reply": "2024-07-16T05:38:03.720780Z"
    },
    "papermill": {
     "duration": 0.022687,
     "end_time": "2024-07-16T05:38:03.724458",
     "exception": false,
     "start_time": "2024-07-16T05:38:03.701771",
     "status": "completed"
    },
    "tags": []
   },
   "outputs": [
    {
     "data": {
      "application/javascript": [
       "parent.postMessage({\"jupyterEvent\": \"custom.exercise_interaction\", \"data\": {\"outcomeType\": 1, \"valueTowardsCompletion\": 0.3333333333333333, \"interactionType\": 1, \"questionType\": 1, \"questionId\": \"0.1_ZA\", \"learnToolsVersion\": \"0.3.4\", \"failureMessage\": \"\", \"exceptionClass\": \"\", \"trace\": \"\"}}, \"*\")"
      ],
      "text/plain": [
       "<IPython.core.display.Javascript object>"
      ]
     },
     "metadata": {},
     "output_type": "display_data"
    },
    {
     "data": {
      "text/markdown": [
       "<span style=\"color:#33cc33\">Correct:</span> \n",
       "\n",
       "The empty string has length zero. Note that the empty string is also the only string that Python considers as False when converting to boolean."
      ],
      "text/plain": [
       "Correct: \n",
       "\n",
       "The empty string has length zero. Note that the empty string is also the only string that Python considers as False when converting to boolean."
      ]
     },
     "metadata": {},
     "output_type": "display_data"
    }
   ],
   "source": [
    "a = \"\"\n",
    "length = len(a)\n",
    "q0.a.check()"
   ]
  },
  {
   "cell_type": "markdown",
   "id": "8a3e5c95",
   "metadata": {
    "papermill": {
     "duration": 0.007576,
     "end_time": "2024-07-16T05:38:03.739939",
     "exception": false,
     "start_time": "2024-07-16T05:38:03.732363",
     "status": "completed"
    },
    "tags": []
   },
   "source": [
    "# 0b."
   ]
  },
  {
   "cell_type": "code",
   "execution_count": 3,
   "id": "d9aefd88",
   "metadata": {
    "execution": {
     "iopub.execute_input": "2024-07-16T05:38:03.757415Z",
     "iopub.status.busy": "2024-07-16T05:38:03.757019Z",
     "iopub.status.idle": "2024-07-16T05:38:03.766825Z",
     "shell.execute_reply": "2024-07-16T05:38:03.765675Z"
    },
    "papermill": {
     "duration": 0.021513,
     "end_time": "2024-07-16T05:38:03.769339",
     "exception": false,
     "start_time": "2024-07-16T05:38:03.747826",
     "status": "completed"
    },
    "tags": []
   },
   "outputs": [
    {
     "data": {
      "application/javascript": [
       "parent.postMessage({\"jupyterEvent\": \"custom.exercise_interaction\", \"data\": {\"outcomeType\": 1, \"valueTowardsCompletion\": 0.3333333333333333, \"interactionType\": 1, \"questionType\": 1, \"questionId\": \"0.2_ZB\", \"learnToolsVersion\": \"0.3.4\", \"failureMessage\": \"\", \"exceptionClass\": \"\", \"trace\": \"\"}}, \"*\")"
      ],
      "text/plain": [
       "<IPython.core.display.Javascript object>"
      ]
     },
     "metadata": {},
     "output_type": "display_data"
    },
    {
     "data": {
      "text/markdown": [
       "<span style=\"color:#33cc33\">Correct:</span> \n",
       "\n",
       "Keep in mind Python includes spaces (and punctuation) when counting string length."
      ],
      "text/plain": [
       "Correct: \n",
       "\n",
       "Keep in mind Python includes spaces (and punctuation) when counting string length."
      ]
     },
     "metadata": {},
     "output_type": "display_data"
    }
   ],
   "source": [
    "b = \"it's ok\"\n",
    "length = len(b)\n",
    "q0.b.check()"
   ]
  },
  {
   "cell_type": "markdown",
   "id": "bdd2023c",
   "metadata": {
    "papermill": {
     "duration": 0.007886,
     "end_time": "2024-07-16T05:38:03.785707",
     "exception": false,
     "start_time": "2024-07-16T05:38:03.777821",
     "status": "completed"
    },
    "tags": []
   },
   "source": [
    "# 0c."
   ]
  },
  {
   "cell_type": "code",
   "execution_count": 4,
   "id": "fbf6d17d",
   "metadata": {
    "execution": {
     "iopub.execute_input": "2024-07-16T05:38:03.804015Z",
     "iopub.status.busy": "2024-07-16T05:38:03.803565Z",
     "iopub.status.idle": "2024-07-16T05:38:03.813595Z",
     "shell.execute_reply": "2024-07-16T05:38:03.812476Z"
    },
    "papermill": {
     "duration": 0.022236,
     "end_time": "2024-07-16T05:38:03.816173",
     "exception": false,
     "start_time": "2024-07-16T05:38:03.793937",
     "status": "completed"
    },
    "tags": []
   },
   "outputs": [
    {
     "data": {
      "application/javascript": [
       "parent.postMessage({\"jupyterEvent\": \"custom.exercise_interaction\", \"data\": {\"outcomeType\": 1, \"valueTowardsCompletion\": 0.3333333333333333, \"interactionType\": 1, \"questionType\": 1, \"questionId\": \"0.3_ZC\", \"learnToolsVersion\": \"0.3.4\", \"failureMessage\": \"\", \"exceptionClass\": \"\", \"trace\": \"\"}}, \"*\")"
      ],
      "text/plain": [
       "<IPython.core.display.Javascript object>"
      ]
     },
     "metadata": {},
     "output_type": "display_data"
    },
    {
     "data": {
      "text/markdown": [
       "<span style=\"color:#33cc33\">Correct:</span> \n",
       "\n",
       "Even though we use different syntax to create it, the string `c` is identical to `b`. In particular, note that the backslash is not part of the string, so it doesn't contribute to its length."
      ],
      "text/plain": [
       "Correct: \n",
       "\n",
       "Even though we use different syntax to create it, the string `c` is identical to `b`. In particular, note that the backslash is not part of the string, so it doesn't contribute to its length."
      ]
     },
     "metadata": {},
     "output_type": "display_data"
    }
   ],
   "source": [
    "c = 'it\\'s ok'\n",
    "length = len(c)\n",
    "q0.c.check()"
   ]
  },
  {
   "cell_type": "markdown",
   "id": "d4af3514",
   "metadata": {
    "papermill": {
     "duration": 0.008151,
     "end_time": "2024-07-16T05:38:03.832912",
     "exception": false,
     "start_time": "2024-07-16T05:38:03.824761",
     "status": "completed"
    },
    "tags": []
   },
   "source": [
    "# 0d."
   ]
  },
  {
   "cell_type": "code",
   "execution_count": 5,
   "id": "da222756",
   "metadata": {
    "execution": {
     "iopub.execute_input": "2024-07-16T05:38:03.851735Z",
     "iopub.status.busy": "2024-07-16T05:38:03.851343Z",
     "iopub.status.idle": "2024-07-16T05:38:03.861488Z",
     "shell.execute_reply": "2024-07-16T05:38:03.860116Z"
    },
    "papermill": {
     "duration": 0.02264,
     "end_time": "2024-07-16T05:38:03.864207",
     "exception": false,
     "start_time": "2024-07-16T05:38:03.841567",
     "status": "completed"
    },
    "tags": []
   },
   "outputs": [
    {
     "data": {
      "application/javascript": [
       "parent.postMessage({\"jupyterEvent\": \"custom.exercise_interaction\", \"data\": {\"outcomeType\": 1, \"valueTowardsCompletion\": 0.3333333333333333, \"interactionType\": 1, \"questionType\": 1, \"questionId\": \"0.4_ZD\", \"learnToolsVersion\": \"0.3.4\", \"failureMessage\": \"\", \"exceptionClass\": \"\", \"trace\": \"\"}}, \"*\")"
      ],
      "text/plain": [
       "<IPython.core.display.Javascript object>"
      ]
     },
     "metadata": {},
     "output_type": "display_data"
    },
    {
     "data": {
      "text/markdown": [
       "<span style=\"color:#33cc33\">Correct:</span> \n",
       "\n",
       "The fact that this string was created using triple-quote syntax doesn't make any difference in terms of its content or length. This string is exactly the same as `'hey'`."
      ],
      "text/plain": [
       "Correct: \n",
       "\n",
       "The fact that this string was created using triple-quote syntax doesn't make any difference in terms of its content or length. This string is exactly the same as `'hey'`."
      ]
     },
     "metadata": {},
     "output_type": "display_data"
    }
   ],
   "source": [
    "d = \"\"\"hey\"\"\"\n",
    "length = len(d)\n",
    "q0.d.check()"
   ]
  },
  {
   "cell_type": "markdown",
   "id": "5e7ae5af",
   "metadata": {
    "papermill": {
     "duration": 0.008622,
     "end_time": "2024-07-16T05:38:03.881696",
     "exception": false,
     "start_time": "2024-07-16T05:38:03.873074",
     "status": "completed"
    },
    "tags": []
   },
   "source": [
    "# 0e."
   ]
  },
  {
   "cell_type": "code",
   "execution_count": 6,
   "id": "8d3ceff5",
   "metadata": {
    "execution": {
     "iopub.execute_input": "2024-07-16T05:38:03.903397Z",
     "iopub.status.busy": "2024-07-16T05:38:03.902993Z",
     "iopub.status.idle": "2024-07-16T05:38:03.913322Z",
     "shell.execute_reply": "2024-07-16T05:38:03.912019Z"
    },
    "papermill": {
     "duration": 0.025123,
     "end_time": "2024-07-16T05:38:03.916201",
     "exception": false,
     "start_time": "2024-07-16T05:38:03.891078",
     "status": "completed"
    },
    "tags": []
   },
   "outputs": [
    {
     "data": {
      "application/javascript": [
       "parent.postMessage({\"jupyterEvent\": \"custom.exercise_interaction\", \"data\": {\"outcomeType\": 1, \"valueTowardsCompletion\": 0.3333333333333333, \"interactionType\": 1, \"questionType\": 1, \"questionId\": \"0.5_ZE\", \"learnToolsVersion\": \"0.3.4\", \"failureMessage\": \"\", \"exceptionClass\": \"\", \"trace\": \"\"}}, \"*\")"
      ],
      "text/plain": [
       "<IPython.core.display.Javascript object>"
      ]
     },
     "metadata": {},
     "output_type": "display_data"
    },
    {
     "data": {
      "text/markdown": [
       "<span style=\"color:#33cc33\">Correct:</span> \n",
       "\n",
       "The newline character is just a single character! (Even though we represent it to Python using a combination of two characters.)"
      ],
      "text/plain": [
       "Correct: \n",
       "\n",
       "The newline character is just a single character! (Even though we represent it to Python using a combination of two characters.)"
      ]
     },
     "metadata": {},
     "output_type": "display_data"
    }
   ],
   "source": [
    "e = '\\n'\n",
    "length = len(e)\n",
    "q0.e.check()"
   ]
  },
  {
   "cell_type": "markdown",
   "id": "c6ab90f9",
   "metadata": {
    "papermill": {
     "duration": 0.009763,
     "end_time": "2024-07-16T05:38:03.935670",
     "exception": false,
     "start_time": "2024-07-16T05:38:03.925907",
     "status": "completed"
    },
    "tags": []
   },
   "source": [
    "# 1.\n",
    "\n",
    "There is a saying that \"Data scientists spend 80% of their time cleaning data, and 20% of their time complaining about cleaning data.\" Let's see if you can write a function to help clean US zip code data. Given a string, it should return whether or not that string represents a valid zip code. For our purposes, a valid zip code is any string consisting of exactly 5 digits.\n",
    "\n",
    "HINT: `str` has a method that will be useful here. Use `help(str)` to review a list of string methods."
   ]
  },
  {
   "cell_type": "code",
   "execution_count": 7,
   "id": "3901eb10",
   "metadata": {
    "execution": {
     "iopub.execute_input": "2024-07-16T05:38:03.956505Z",
     "iopub.status.busy": "2024-07-16T05:38:03.956066Z",
     "iopub.status.idle": "2024-07-16T05:38:03.966726Z",
     "shell.execute_reply": "2024-07-16T05:38:03.965539Z"
    },
    "papermill": {
     "duration": 0.023926,
     "end_time": "2024-07-16T05:38:03.969362",
     "exception": false,
     "start_time": "2024-07-16T05:38:03.945436",
     "status": "completed"
    },
    "tags": []
   },
   "outputs": [
    {
     "data": {
      "application/javascript": [
       "parent.postMessage({\"jupyterEvent\": \"custom.exercise_interaction\", \"data\": {\"outcomeType\": 1, \"valueTowardsCompletion\": 0.3333333333333333, \"interactionType\": 1, \"questionType\": 2, \"questionId\": \"1_ZipValidator\", \"learnToolsVersion\": \"0.3.4\", \"failureMessage\": \"\", \"exceptionClass\": \"\", \"trace\": \"\"}}, \"*\")"
      ],
      "text/plain": [
       "<IPython.core.display.Javascript object>"
      ]
     },
     "metadata": {},
     "output_type": "display_data"
    },
    {
     "data": {
      "text/markdown": [
       "<span style=\"color:#33cc33\">Correct</span>"
      ],
      "text/plain": [
       "Correct"
      ]
     },
     "metadata": {},
     "output_type": "display_data"
    }
   ],
   "source": [
    "def is_valid_zip(zip_code):\n",
    "    \"\"\"Returns whether the input string is a valid (5 digit) zip code\n",
    "    \"\"\"\n",
    "    return True if len(zip_code) == 5 and zip_code.isdigit() else False\n",
    "\n",
    "# Check your answer\n",
    "q1.check()"
   ]
  },
  {
   "cell_type": "code",
   "execution_count": 8,
   "id": "df72605d",
   "metadata": {
    "execution": {
     "iopub.execute_input": "2024-07-16T05:38:03.990242Z",
     "iopub.status.busy": "2024-07-16T05:38:03.989841Z",
     "iopub.status.idle": "2024-07-16T05:38:03.994366Z",
     "shell.execute_reply": "2024-07-16T05:38:03.993307Z"
    },
    "papermill": {
     "duration": 0.017745,
     "end_time": "2024-07-16T05:38:03.996750",
     "exception": false,
     "start_time": "2024-07-16T05:38:03.979005",
     "status": "completed"
    },
    "tags": []
   },
   "outputs": [],
   "source": [
    "#q1.hint()\n",
    "#q1.solution()"
   ]
  },
  {
   "cell_type": "markdown",
   "id": "ddb1f92e",
   "metadata": {
    "papermill": {
     "duration": 0.009275,
     "end_time": "2024-07-16T05:38:04.015682",
     "exception": false,
     "start_time": "2024-07-16T05:38:04.006407",
     "status": "completed"
    },
    "tags": []
   },
   "source": [
    "# 2.\n",
    "\n",
    "A researcher has gathered thousands of news articles. But she wants to focus her attention on articles including a specific word. Complete the function below to help her filter her list of articles.\n",
    "\n",
    "Your function should meet the following criteria:\n",
    "\n",
    "- Do not include documents where the keyword string shows up only as a part of a larger word. For example, if she were looking for the keyword “closed”, you would not include the string “enclosed.” \n",
    "- She does not want you to distinguish upper case from lower case letters. So the phrase “Closed the case.” would be included when the keyword is “closed”\n",
    "- Do not let periods or commas affect what is matched. “It is closed.” would be included when the keyword is “closed”. But you can assume there are no other types of punctuation."
   ]
  },
  {
   "cell_type": "code",
   "execution_count": 9,
   "id": "16aa7677",
   "metadata": {
    "execution": {
     "iopub.execute_input": "2024-07-16T05:38:04.036731Z",
     "iopub.status.busy": "2024-07-16T05:38:04.036354Z",
     "iopub.status.idle": "2024-07-16T05:38:04.049699Z",
     "shell.execute_reply": "2024-07-16T05:38:04.048415Z"
    },
    "papermill": {
     "duration": 0.027182,
     "end_time": "2024-07-16T05:38:04.052495",
     "exception": false,
     "start_time": "2024-07-16T05:38:04.025313",
     "status": "completed"
    },
    "tags": []
   },
   "outputs": [
    {
     "data": {
      "application/javascript": [
       "parent.postMessage({\"jupyterEvent\": \"custom.exercise_interaction\", \"data\": {\"outcomeType\": 1, \"valueTowardsCompletion\": 0.3333333333333333, \"interactionType\": 1, \"questionType\": 2, \"questionId\": \"2_WordSearch\", \"learnToolsVersion\": \"0.3.4\", \"failureMessage\": \"\", \"exceptionClass\": \"\", \"trace\": \"\"}}, \"*\")"
      ],
      "text/plain": [
       "<IPython.core.display.Javascript object>"
      ]
     },
     "metadata": {},
     "output_type": "display_data"
    },
    {
     "data": {
      "text/markdown": [
       "<span style=\"color:#33cc33\">Correct</span>"
      ],
      "text/plain": [
       "Correct"
      ]
     },
     "metadata": {},
     "output_type": "display_data"
    }
   ],
   "source": [
    "def word_search(doc_list, keyword):\n",
    "    \"\"\"\n",
    "    Takes a list of documents (each document is a string) and a keyword. \n",
    "    Returns list of the index values into the original list for all documents \n",
    "    containing the keyword.\n",
    "\n",
    "    Example:\n",
    "    doc_list = [\"The Learn Python Challenge Casino.\", \"They bought a car\", \"Casinoville\"]\n",
    "    >>> word_search(doc_list, 'casino')\n",
    "    >>> [0]\n",
    "    \"\"\"\n",
    "    found = []\n",
    "    for doc in doc_list:\n",
    "        no_dot = doc.replace(\".\", \"\").replace(\",\", \"\")\n",
    "        search = no_dot.split(\" \")\n",
    "        for word in search:\n",
    "            if word.lower() == keyword.lower():\n",
    "                found.append(doc)\n",
    "                break\n",
    "    index = []\n",
    "    for doc in found:\n",
    "        index.append(doc_list.index(doc))\n",
    "    return index\n",
    "\n",
    "# Check your answer\n",
    "q2.check()"
   ]
  },
  {
   "cell_type": "code",
   "execution_count": 10,
   "id": "0819fa20",
   "metadata": {
    "execution": {
     "iopub.execute_input": "2024-07-16T05:38:04.074458Z",
     "iopub.status.busy": "2024-07-16T05:38:04.074053Z",
     "iopub.status.idle": "2024-07-16T05:38:04.082831Z",
     "shell.execute_reply": "2024-07-16T05:38:04.081709Z"
    },
    "papermill": {
     "duration": 0.022407,
     "end_time": "2024-07-16T05:38:04.085193",
     "exception": false,
     "start_time": "2024-07-16T05:38:04.062786",
     "status": "completed"
    },
    "tags": []
   },
   "outputs": [
    {
     "data": {
      "application/javascript": [
       "parent.postMessage({\"jupyterEvent\": \"custom.exercise_interaction\", \"data\": {\"interactionType\": 3, \"questionType\": 2, \"questionId\": \"2_WordSearch\", \"learnToolsVersion\": \"0.3.4\", \"valueTowardsCompletion\": 0.0, \"failureMessage\": \"\", \"exceptionClass\": \"\", \"trace\": \"\", \"outcomeType\": 4}}, \"*\")"
      ],
      "text/plain": [
       "<IPython.core.display.Javascript object>"
      ]
     },
     "metadata": {},
     "output_type": "display_data"
    },
    {
     "data": {
      "text/markdown": [
       "<span style=\"color:#33cc99\">Solution:</span> \n",
       "```python\n",
       "def word_search(doc_list, keyword):\n",
       "    # list to hold the indices of matching documents\n",
       "    indices = [] \n",
       "    # Iterate through the indices (i) and elements (doc) of documents\n",
       "    for i, doc in enumerate(doc_list):\n",
       "        # Split the string doc into a list of words (according to whitespace)\n",
       "        tokens = doc.split()\n",
       "        # Make a transformed list where we 'normalize' each word to facilitate matching.\n",
       "        # Periods and commas are removed from the end of each word, and it's set to all lowercase.\n",
       "        normalized = [token.rstrip('.,').lower() for token in tokens]\n",
       "        # Is there a match? If so, update the list of matching indices.\n",
       "        if keyword.lower() in normalized:\n",
       "            indices.append(i)\n",
       "    return indices\n",
       "```"
      ],
      "text/plain": [
       "Solution: \n",
       "```python\n",
       "def word_search(doc_list, keyword):\n",
       "    # list to hold the indices of matching documents\n",
       "    indices = [] \n",
       "    # Iterate through the indices (i) and elements (doc) of documents\n",
       "    for i, doc in enumerate(doc_list):\n",
       "        # Split the string doc into a list of words (according to whitespace)\n",
       "        tokens = doc.split()\n",
       "        # Make a transformed list where we 'normalize' each word to facilitate matching.\n",
       "        # Periods and commas are removed from the end of each word, and it's set to all lowercase.\n",
       "        normalized = [token.rstrip('.,').lower() for token in tokens]\n",
       "        # Is there a match? If so, update the list of matching indices.\n",
       "        if keyword.lower() in normalized:\n",
       "            indices.append(i)\n",
       "    return indices\n",
       "```"
      ]
     },
     "metadata": {},
     "output_type": "display_data"
    }
   ],
   "source": [
    "#q2.hint()\n",
    "q2.solution()"
   ]
  },
  {
   "cell_type": "markdown",
   "id": "03403dc0",
   "metadata": {
    "papermill": {
     "duration": 0.009964,
     "end_time": "2024-07-16T05:38:04.105389",
     "exception": false,
     "start_time": "2024-07-16T05:38:04.095425",
     "status": "completed"
    },
    "tags": []
   },
   "source": [
    "# 3.\n",
    "\n",
    "Now the researcher wants to supply multiple keywords to search for. Complete the function below to help her.\n",
    "\n",
    "(You're encouraged to use the `word_search` function you just wrote when implementing this function. Reusing code in this way makes your programs more robust and readable - and it saves typing!)"
   ]
  },
  {
   "cell_type": "code",
   "execution_count": 11,
   "id": "9f798faa",
   "metadata": {
    "execution": {
     "iopub.execute_input": "2024-07-16T05:38:04.127839Z",
     "iopub.status.busy": "2024-07-16T05:38:04.127440Z",
     "iopub.status.idle": "2024-07-16T05:38:04.138789Z",
     "shell.execute_reply": "2024-07-16T05:38:04.137638Z"
    },
    "papermill": {
     "duration": 0.025963,
     "end_time": "2024-07-16T05:38:04.141440",
     "exception": false,
     "start_time": "2024-07-16T05:38:04.115477",
     "status": "completed"
    },
    "tags": []
   },
   "outputs": [
    {
     "data": {
      "application/javascript": [
       "parent.postMessage({\"jupyterEvent\": \"custom.exercise_interaction\", \"data\": {\"outcomeType\": 1, \"valueTowardsCompletion\": 0.3333333333333333, \"interactionType\": 1, \"questionType\": 2, \"questionId\": \"3_MultiWordSearch\", \"learnToolsVersion\": \"0.3.4\", \"failureMessage\": \"\", \"exceptionClass\": \"\", \"trace\": \"\"}}, \"*\")"
      ],
      "text/plain": [
       "<IPython.core.display.Javascript object>"
      ]
     },
     "metadata": {},
     "output_type": "display_data"
    },
    {
     "data": {
      "text/markdown": [
       "<span style=\"color:#33cc33\">Correct</span>"
      ],
      "text/plain": [
       "Correct"
      ]
     },
     "metadata": {},
     "output_type": "display_data"
    }
   ],
   "source": [
    "def multi_word_search(doc_list, keywords):\n",
    "    \"\"\"\n",
    "    Takes list of documents (each document is a string) and a list of keywords.  \n",
    "    Returns a dictionary where each key is a keyword, and the value is a list of indices\n",
    "    (from doc_list) of the documents containing that keyword\n",
    "\n",
    "    >>> doc_list = [\"The Learn Python Challenge Casino.\", \"They bought a car and a casino\", \"Casinoville\"]\n",
    "    >>> keywords = ['casino', 'they']\n",
    "    >>> multi_word_search(doc_list, keywords)\n",
    "    {'casino': [0, 1], 'they': [1]}\n",
    "    \"\"\"\n",
    "    answer = {}\n",
    "    for key in keywords:\n",
    "        answer[key] = word_search(doc_list, key)\n",
    "    return answer\n",
    "\n",
    "# Check your answer\n",
    "q3.check()"
   ]
  },
  {
   "cell_type": "code",
   "execution_count": 12,
   "id": "70b804ad",
   "metadata": {
    "execution": {
     "iopub.execute_input": "2024-07-16T05:38:04.164950Z",
     "iopub.status.busy": "2024-07-16T05:38:04.164247Z",
     "iopub.status.idle": "2024-07-16T05:38:04.169299Z",
     "shell.execute_reply": "2024-07-16T05:38:04.168041Z"
    },
    "papermill": {
     "duration": 0.019472,
     "end_time": "2024-07-16T05:38:04.171820",
     "exception": false,
     "start_time": "2024-07-16T05:38:04.152348",
     "status": "completed"
    },
    "tags": []
   },
   "outputs": [],
   "source": [
    "#q3.solution()"
   ]
  },
  {
   "cell_type": "markdown",
   "id": "32bd858b",
   "metadata": {
    "papermill": {
     "duration": 0.010359,
     "end_time": "2024-07-16T05:38:04.192861",
     "exception": false,
     "start_time": "2024-07-16T05:38:04.182502",
     "status": "completed"
    },
    "tags": []
   },
   "source": [
    "# Keep Going\n",
    "\n",
    "You've learned a lot. But even the best programmers rely heavily on \"libraries\" of code from other programmers. You'll learn about that in **[the last lesson](https://www.kaggle.com/colinmorris/working-with-external-libraries)**.\n"
   ]
  },
  {
   "cell_type": "markdown",
   "id": "f815c140",
   "metadata": {
    "papermill": {
     "duration": 0.010465,
     "end_time": "2024-07-16T05:38:04.214253",
     "exception": false,
     "start_time": "2024-07-16T05:38:04.203788",
     "status": "completed"
    },
    "tags": []
   },
   "source": [
    "---\n",
    "\n",
    "\n",
    "\n",
    "\n",
    "*Have questions or comments? Visit the [course discussion forum](https://www.kaggle.com/learn/python/discussion) to chat with other learners.*"
   ]
  }
 ],
 "metadata": {
  "kaggle": {
   "accelerator": "none",
   "dataSources": [],
   "isGpuEnabled": false,
   "isInternetEnabled": false,
   "language": "python",
   "sourceType": "notebook"
  },
  "kernelspec": {
   "display_name": "Python 3",
   "language": "python",
   "name": "python3"
  },
  "language_info": {
   "codemirror_mode": {
    "name": "ipython",
    "version": 3
   },
   "file_extension": ".py",
   "mimetype": "text/x-python",
   "name": "python",
   "nbconvert_exporter": "python",
   "pygments_lexer": "ipython3",
   "version": "3.10.13"
  },
  "learntools_metadata": {
   "lesson_index": 5,
   "type": "exercise"
  },
  "papermill": {
   "default_parameters": {},
   "duration": 5.219233,
   "end_time": "2024-07-16T05:38:04.747748",
   "environment_variables": {},
   "exception": null,
   "input_path": "__notebook__.ipynb",
   "output_path": "__notebook__.ipynb",
   "parameters": {},
   "start_time": "2024-07-16T05:37:59.528515",
   "version": "2.5.0"
  }
 },
 "nbformat": 4,
 "nbformat_minor": 5
}
